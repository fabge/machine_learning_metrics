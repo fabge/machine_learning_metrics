{
 "cells": [
  {
   "cell_type": "markdown",
   "metadata": {},
   "source": [
    "# Machine Learning Metrics"
   ]
  },
  {
   "cell_type": "markdown",
   "metadata": {},
   "source": [
    "This blogpost is a growing collection of different metrics, translated from the math notation to code. I try to keep it as concise and efficient as possible.  \n",
    "Don't hesitate to contact me for any mistakes found or suggestions.  \n",
    "Inspiration and reference:  https://github.com/Jam3/math-as-code"
   ]
  },
  {
   "cell_type": "code",
   "execution_count": 2,
   "metadata": {},
   "outputs": [],
   "source": [
    "import numpy as np\n",
    "import matplotlib.pyplot as plt\n",
    "import math\n",
    "\n",
    "%matplotlib inline"
   ]
  },
  {
   "cell_type": "code",
   "execution_count": 11,
   "metadata": {},
   "outputs": [],
   "source": [
    "x = np.linspace(-100,100,201)\n",
    "y = x + 2\n",
    "y_scatter = x + np.random.normal(0, 15, 201)"
   ]
  },
  {
   "cell_type": "code",
   "execution_count": 12,
   "metadata": {},
   "outputs": [
    {
     "data": {
      "text/plain": [
       "(201, 201, 201)"
      ]
     },
     "execution_count": 12,
     "metadata": {},
     "output_type": "execute_result"
    }
   ],
   "source": [
    "len(x), len(y), len(y_scatter)"
   ]
  },
  {
   "cell_type": "code",
   "execution_count": 13,
   "metadata": {},
   "outputs": [
    {
     "data": {
      "text/plain": [
       "<matplotlib.collections.PathCollection at 0x10c6bb358>"
      ]
     },
     "execution_count": 13,
     "metadata": {},
     "output_type": "execute_result"
    },
    {
     "data": {
      "image/png": "[encoded data removed]",
      "text/plain": [
       "<Figure size 432x288 with 1 Axes>"
      ]
     },
     "metadata": {},
     "output_type": "display_data"
    }
   ],
   "source": [
    "plt.scatter(x,y)"
   ]
  },
  {
   "cell_type": "markdown",
   "metadata": {},
   "source": [
    "# Evaluation metrics"
   ]
  },
  {
   "cell_type": "markdown",
   "metadata": {},
   "source": [
    "The metrics which are chosen to evaluate ones machine learning algorithm vary wildly, depending on the usecase (or the Kaggle competition). A few of them are shown below."
   ]
  },
  {
   "cell_type": "markdown",
   "metadata": {},
   "source": [
    "**RMSE**  \n",
    "Arguably on of the most frequently used measure of the differences between values predicted by a model or an estimator and the values observed. The RMSE, also called RMSD, is calculated by taking the square root of the mean of the squared delta between `y_pred` and `y_true`.\n",
    "\n",
    "$${\\displaystyle \\operatorname {RMSE} ={\\sqrt {\\frac {\\sum _{t=1}^{T}({\\hat {y}}_{t}-y_{t})^{2}}{T}}}}$$\n",
    "\n",
    "where $y$ is the actual value and $\\hat y$ is the predicted value."
   ]
  },
  {
   "cell_type": "code",
   "execution_count": 1,
   "metadata": {},
   "outputs": [],
   "source": [
    "def rmse(y_pred, y): return math.sqrt(((y_pred-y)**2).mean())"
   ]
  },
  {
   "cell_type": "markdown",
   "metadata": {},
   "source": [
    "**SMAPE**  \n",
    "Symmetric mean absolute percentage error (SMAPE or sMAPE) is an accuracy measure based on percentage (or relative) errors. It is usually defined as follows:\n",
    "\n",
    "$${\\displaystyle {\\text{SMAPE}}={\\frac {100\\%}{n}}\\sum _{t=1}^{n}{\\frac {\\left|F_{t}-A_{t}\\right|}{(|A_{t}|+|F_{t}|)/2}}}$$\n",
    "\n",
    "where $A_t$ is the actual value and $F_t$ is the predicted value."
   ]
  },
  {
   "cell_type": "code",
   "execution_count": 2,
   "metadata": {},
   "outputs": [],
   "source": [
    "def SMAPE(y_pred, y): return ((200*np.abs(y_pred-y)/(y+y_pred)).mean())"
   ]
  },
  {
   "cell_type": "markdown",
   "metadata": {},
   "source": [
    "--------"
   ]
  },
  {
   "cell_type": "markdown",
   "metadata": {},
   "source": [
    "**Confusion Matrix**\n",
    "<td>\n",
    "<table class=\"wikitable\" style=\"border:none; float:left; margin-top:0;\">\n",
    "<tbody><tr>\n",
    "<th style=\"background:white; border:none;\" colspan=\"2\" rowspan=\"2\">\n",
    "</th>\n",
    "<th colspan=\"3\" style=\"background:none;\">Actual class\n",
    "</th></tr>\n",
    "<tr>\n",
    "<th>Cat\n",
    "</th>\n",
    "<th>Dog\n",
    "</th>\n",
    "<th>Rabbit\n",
    "</th></tr>\n",
    "<tr>\n",
    "<th rowspan=\"3\" style=\"height:6em;\"><div style=\"display: inline-block; -ms-transform: rotate(-90deg); -webkit-transform: rotate(-90deg); transform: rotate(-90deg);;\">Predicted<br> class</div>\n",
    "</th>\n",
    "<th>Cat\n",
    "</th>\n",
    "<td><b>5</b>\n",
    "</td>\n",
    "<td>2\n",
    "</td>\n",
    "<td>0\n",
    "</td></tr>\n",
    "<tr>\n",
    "<th>Dog\n",
    "</th>\n",
    "<td>3\n",
    "</td>\n",
    "<td><b>3</b>\n",
    "</td>\n",
    "<td>2\n",
    "</td></tr>\n",
    "<tr>\n",
    "<th>Rabbit\n",
    "</th>\n",
    "<td>0\n",
    "</td>\n",
    "<td>1\n",
    "</td>\n",
    "<td><b>11</b>\n",
    "</td></tr></tbody></table>\n",
    "</td>"
   ]
  },
  {
   "cell_type": "markdown",
   "metadata": {},
   "source": [
    "**Accuracy**  \n",
    "The accuracy of a test is its ability to differentiate the cases correctly. To estimate the accuracy of a test, we should calculate the proportion of true positive and true negative in all evaluated cases.\n",
    "\n",
    "$${\\displaystyle \\mathrm {ACC} ={\\frac {\\mathrm {TP} +\\mathrm {TN} }{P+N}}={\\frac {\\mathrm {TP} +\\mathrm {TN} }{\\mathrm {TP} +\\mathrm {TN} +\\mathrm {FP} +\\mathrm {FN} }}}$$"
   ]
  },
  {
   "cell_type": "code",
   "execution_count": 3,
   "metadata": {},
   "outputs": [],
   "source": [
    "def acc(y_pred, y): return np.mean(y_pred == y)"
   ]
  },
  {
   "cell_type": "markdown",
   "metadata": {},
   "source": [
    "**Precision**  \n",
    "Precision is the fraction of relevant instances among the retrieved instances.\n",
    "\n",
    "$${\\displaystyle {\\text{Precision}}={\\frac {tp}{tp+fp}}}$$"
   ]
  },
  {
   "cell_type": "markdown",
   "metadata": {},
   "source": [
    "**Recall**\n",
    "Recall is the fraction of relevant instances that have been retrieved over the total amount of relevant instances.\n",
    "\n",
    "$${\\displaystyle {\\text{Recall}}={\\frac {tp}{tp+fn}}}$$"
   ]
  },
  {
   "cell_type": "markdown",
   "metadata": {},
   "source": [
    "**F1-Measure**\n",
    "The F1-Measure is a measure that combines precision and recall by taking the harmonic mean of precision and recall:\n",
    "\n",
    "$${\\displaystyle F=2\\cdot {\\frac {\\mathrm {precision} \\cdot \\mathrm {recall} }{\\mathrm {precision} +\\mathrm {recall} }}}$$"
   ]
  },
  {
   "cell_type": "markdown",
   "metadata": {},
   "source": [
    "# Regularization"
   ]
  },
  {
   "cell_type": "markdown",
   "metadata": {},
   "source": [
    "In mathematics, statistics, and computer science, particularly in the fields of machine learning and inverse problems, regularization is a process of introducing additional information in order to solve an ill-posed problem or to prevent overfitting [(source)](https://en.wikipedia.org/wiki/Regularization_(mathematics))."
   ]
  },
  {
   "cell_type": "markdown",
   "metadata": {},
   "source": [
    "**L1 Regularization or Lasso Regression**  \n",
    "\n",
    "$$\\sum _{i=1}^{n}(y_{i}-\\sum _{j=1}^{p}x_{ij}\\beta_{j})^{2}+\\lambda\\sum _{j=1}^{p}|\\beta_{j}|$$  \n",
    "\n",
    "where $\\lambda\\sum _{j=1}^{p}|\\beta_{j}|$ is the L1 regularization term. Lasso Regression (Least Absolute Shrinkage and Selection Operator) adds “absolute value of magnitude” of coefficient as penalty term to the loss function. If $\\lambda$ is zero the term is a simple ordinary least squares term whereas very large values will make coefficients zero hence it will under-fit."
   ]
  },
  {
   "cell_type": "markdown",
   "metadata": {},
   "source": [
    "**L2 Regularization or Ridge Regression**\n",
    "\n",
    "$$\\sum _{i=1}^{n}(y_{i}-\\sum _{j=1}^{p}x_{ij}\\beta_{j})^{2}+\\lambda\\sum _{j=1}^{p}\\beta_{j}^{2}$$  \n",
    "\n",
    "where $\\lambda\\sum _{j=1}^{p}\\beta_{j}^{2}$ is the L2 regularization term. Ridge Regression adds the “squared magnitude” of coefficient as penalty term to the loss function. Here, if $\\lambda$ is zero, the term is a simple ordinary least squares term. However, if $\\lambda$ is very large, the penalty term will add too much weight and it will lead to under-fitting.  \n",
    "Having said that it’s important how lambda is chosen. This technique works very well to avoid over-fitting issue."
   ]
  },
  {
   "cell_type": "markdown",
   "metadata": {},
   "source": [
    "# Loss functions"
   ]
  },
  {
   "cell_type": "markdown",
   "metadata": {},
   "source": [
    "**Binary Crossentropy**\n",
    "\n",
    "$$−(ylog(p)+(1−y)log(1−p))$$"
   ]
  },
  {
   "cell_type": "code",
   "execution_count": 1,
   "metadata": {},
   "outputs": [],
   "source": [
    "def binary_loss(y, p): return np.mean(-(y * np.log(p) +  (1-y)*np.log(1-p)))"
   ]
  },
  {
   "cell_type": "markdown",
   "metadata": {},
   "source": [
    "# Activation functions"
   ]
  },
  {
   "cell_type": "markdown",
   "metadata": {},
   "source": [
    "**Softmax**\n",
    "\n",
    "$${\\displaystyle P(y=j\\mid \\mathbf {x} )={\\frac {e^{\\mathbf {x} ^{\\mathsf {T}}\\mathbf {w} _{j}}}{\\sum _{k=1}^{K}e^{\\mathbf {x} ^{\\mathsf {T}}\\mathbf {w} _{k}}}}}$$"
   ]
  },
  {
   "cell_type": "markdown",
   "metadata": {},
   "source": [
    "**Sigmoid**"
   ]
  },
  {
   "cell_type": "code",
   "execution_count": 5,
   "metadata": {},
   "outputs": [],
   "source": [
    "def sigmoid(x): return 1 / (1 + math.exp(-x))"
   ]
  },
  {
   "cell_type": "code",
   "execution_count": 18,
   "metadata": {},
   "outputs": [
    {
     "data": {
      "text/plain": [
       "[<matplotlib.lines.Line2D at 0x10c897fd0>]"
      ]
     },
     "execution_count": 18,
     "metadata": {},
     "output_type": "execute_result"
    },
    {
     "data": {
      "image/png": "[encoded data removed]",
      "text/plain": [
       "<Figure size 432x288 with 1 Axes>"
      ]
     },
     "metadata": {},
     "output_type": "display_data"
    }
   ],
   "source": [
    "plt.plot(x, [sigmoid(num) for num in y])"
   ]
  },
  {
   "cell_type": "markdown",
   "metadata": {},
   "source": [
    "**tanh**"
   ]
  },
  {
   "cell_type": "code",
   "execution_count": 23,
   "metadata": {},
   "outputs": [],
   "source": [
    "def tanh(x): return np.tanh(x)"
   ]
  },
  {
   "cell_type": "code",
   "execution_count": 24,
   "metadata": {},
   "outputs": [
    {
     "data": {
      "text/plain": [
       "[<matplotlib.lines.Line2D at 0x10ccc5550>]"
      ]
     },
     "execution_count": 24,
     "metadata": {},
     "output_type": "execute_result"
    },
    {
     "data": {
      "image/png": "[encoded data removed]",
      "text/plain": [
       "<Figure size 432x288 with 1 Axes>"
      ]
     },
     "metadata": {},
     "output_type": "display_data"
    }
   ],
   "source": [
    "plt.plot(x, tanh(y))"
   ]
  },
  {
   "cell_type": "markdown",
   "metadata": {},
   "source": [
    "**ReLU**"
   ]
  },
  {
   "cell_type": "code",
   "execution_count": 26,
   "metadata": {},
   "outputs": [],
   "source": [
    "def relu(x): return max(0,x)"
   ]
  },
  {
   "cell_type": "code",
   "execution_count": 27,
   "metadata": {},
   "outputs": [
    {
     "data": {
      "text/plain": [
       "[<matplotlib.lines.Line2D at 0x10cdbebe0>]"
      ]
     },
     "execution_count": 27,
     "metadata": {},
     "output_type": "execute_result"
    },
    {
     "data": {
      "image/png": "[encoded data removed]",
      "text/plain": [
       "<Figure size 432x288 with 1 Axes>"
      ]
     },
     "metadata": {},
     "output_type": "display_data"
    }
   ],
   "source": [
    "plt.plot(x, [relu(num) for num in y])"
   ]
  },
  {
   "cell_type": "markdown",
   "metadata": {},
   "source": [
    "# Other statistical measures"
   ]
  },
  {
   "cell_type": "markdown",
   "metadata": {},
   "source": [
    "**Standard deviation**  \n",
    "$$\\sigma ={\\sqrt {{\\frac {1}{n}}\\sum _{i=1}^{N}(x_{i}-\\mu )^{2}}},{\\rm {\\ \\ where\\ \\ }}\\mu ={\\frac {1}{n}}\\sum _{i=1}^{N}x_{i}$$\n",
    "\n",
    "$n$ = numer of oberservations; $x_{i}$ = observation value; $\\mu$ = population mean\n",
    "\n",
    "**Sample standard deviation**  \n",
    "\n",
    "$${\\displaystyle s={\\sqrt {\\frac {1}{n-1}{\\sum _{i=1}^{N}(x_{i}-{\\overline {x}})^{2}}}}}$$\n",
    "\n",
    "$n-1$ = Bessel's correction; $x_{i}$ = observation value; $\\overline x$ = sample mean"
   ]
  },
  {
   "cell_type": "markdown",
   "metadata": {},
   "source": [
    "**Probability concepts explained**\n",
    "* https://towardsdatascience.com/probability-concepts-explained-introduction-a7c0316de465\n",
    "* https://towardsdatascience.com/probability-concepts-explained-maximum-likelihood-estimation-c7b4342fdbb1\n",
    "\n",
    ">Maximum likelihood estimation is a method that determines values for the parameters of a model. The parameter values are found such that they maximise the likelihood that the process described by the model produced the data that were actually observed.\n",
    "\n",
    ">We want to know which curve was most likely responsible for creating the data points that we observed? Maximum likelihood estimation is a method that will find the values of μ and σ that result in the curve that best fits the data.\n",
    "\n",
    "> Likelihood and the probability density are fundamentally asking different questions — one is asking about the data and the other is asking about the parameter values.\n",
    "\n",
    "* https://towardsdatascience.com/probability-concepts-explained-bayesian-inference-for-parameter-estimation-90e8930e5348"
   ]
  },
  {
   "cell_type": "markdown",
   "metadata": {},
   "source": [
    "---\n",
    "the code bel"
   ]
  },
  {
   "cell_type": "code",
   "execution_count": 3,
   "metadata": {},
   "outputs": [
    {
     "name": "stdout",
     "output_type": "stream",
     "text": [
      "[NbConvertApp] Converting notebook machine_learning_metrics.ipynb to markdown\n",
      "[NbConvertApp] Support files will be in README_files/\n",
      "[NbConvertApp] Making directory README_files\n",
      "[NbConvertApp] Making directory README_files\n",
      "[NbConvertApp] Making directory README_files\n",
      "[NbConvertApp] Making directory README_files\n",
      "[NbConvertApp] Writing 9104 bytes to README.md\n"
     ]
    }
   ],
   "source": [
    "!jupyter nbconvert --to markdown machine_learning_metrics.ipynb --output README.md"
   ]
  },
  {
   "cell_type": "code",
   "execution_count": 1,
   "metadata": {},
   "outputs": [
    {
     "name": "stdout",
     "output_type": "stream",
     "text": [
      "[NbConvertApp] Converting notebook machine_learning_metrics.ipynb to markdown\n",
      "[NbConvertApp] Support files will be in ../../fabiange/_posts/2018-09-03-machine_learning_metrics_files/\n",
      "[NbConvertApp] Making directory ../../fabiange/_posts/2018-09-03-machine_learning_metrics_files/../../fabiange/_posts\n",
      "[NbConvertApp] Making directory ../../fabiange/_posts/2018-09-03-machine_learning_metrics_files/../../fabiange/_posts\n",
      "[NbConvertApp] Making directory ../../fabiange/_posts/2018-09-03-machine_learning_metrics_files/../../fabiange/_posts\n",
      "[NbConvertApp] Making directory ../../fabiange/_posts/2018-09-03-machine_learning_metrics_files/../../fabiange/_posts\n",
      "[NbConvertApp] Writing 8584 bytes to ../../fabiange/_posts/2018-09-03-machine_learning_metrics.md\n"
     ]
    }
   ],
   "source": [
    "!jupyter nbconvert --to markdown machine_learning_metrics.ipynb --output ../../fabiange/_posts/2018-09-03-machine_learning_metrics.md"
   ]
  },
  {
   "cell_type": "code",
   "execution_count": null,
   "metadata": {},
   "outputs": [],
   "source": []
  }
 ],
 "metadata": {
  "kernelspec": {
   "display_name": "Python 3",
   "language": "python",
   "name": "python3"
  },
  "language_info": {
   "codemirror_mode": {
    "name": "ipython",
    "version": 3
   },
   "file_extension": ".py",
   "mimetype": "text/x-python",
   "name": "python",
   "nbconvert_exporter": "python",
   "pygments_lexer": "ipython3",
   "version": "3.6.5"
  }
 },
 "nbformat": 4,
 "nbformat_minor": 2
}
